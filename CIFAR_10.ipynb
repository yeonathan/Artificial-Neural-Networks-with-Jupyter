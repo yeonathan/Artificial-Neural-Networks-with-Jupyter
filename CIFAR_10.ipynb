{
  "nbformat": 4,
  "nbformat_minor": 0,
  "metadata": {
    "colab": {
      "name": "CIFAR 10",
      "provenance": [],
      "collapsed_sections": [],
      "authorship_tag": "ABX9TyMtnM95zko4LshkIhM3HNdt",
      "include_colab_link": true
    },
    "kernelspec": {
      "name": "python3",
      "display_name": "Python 3"
    },
    "accelerator": "GPU"
  },
  "cells": [
    {
      "cell_type": "markdown",
      "metadata": {
        "id": "view-in-github",
        "colab_type": "text"
      },
      "source": [
        "<a href=\"https://colab.research.google.com/github/yeonathan/Artificial-Neural-Networks-with-Jupyter/blob/master/CIFAR_10.ipynb\" target=\"_parent\"><img src=\"https://colab.research.google.com/assets/colab-badge.svg\" alt=\"Open In Colab\"/></a>"
      ]
    },
    {
      "cell_type": "code",
      "metadata": {
        "id": "PbuJD_p5vXRr",
        "colab_type": "code",
        "colab": {
          "base_uri": "https://localhost:8080/",
          "height": 73
        },
        "outputId": "322b6896-dc74-4f2c-a31d-bd8a1b592f02"
      },
      "source": [
        "from __future__ import print_function\n",
        "import keras\n",
        "from keras.datasets import cifar10\n",
        "from keras.preprocessing.image import ImageDataGenerator\n",
        "from keras.models import Sequential\n",
        "from keras.layers import Dense, Dropout, Activation, Flatten\n",
        "from keras.layers import Conv2D, MaxPooling2D, BatchNormalization, MaxPool2D\n",
        "import os\n",
        "\n",
        "import numpy as np\n",
        "\n",
        "import seaborn as sns\n",
        "import matplotlib\n",
        "import matplotlib.pyplot as plt\n",
        "\n",
        "from sklearn.metrics import confusion_matrix, classification_report\n",
        "import itertools\n",
        "\n",
        "%matplotlib inline"
      ],
      "execution_count": 2,
      "outputs": [
        {
          "output_type": "stream",
          "text": [
            "/usr/local/lib/python3.6/dist-packages/statsmodels/tools/_testing.py:19: FutureWarning: pandas.util.testing is deprecated. Use the functions in the public API at pandas.testing instead.\n",
            "  import pandas.util.testing as tm\n"
          ],
          "name": "stderr"
        }
      ]
    },
    {
      "cell_type": "code",
      "metadata": {
        "id": "wwWtinLGI7UI",
        "colab_type": "code",
        "colab": {
          "base_uri": "https://localhost:8080/",
          "height": 72
        },
        "outputId": "38f4fb06-7ff6-4fb1-ad62-fd6213912703"
      },
      "source": [
        "# TensorFlow and tf.keras\n",
        "import tensorflow as tf\n",
        "from tensorflow import keras\n",
        "from tensorflow.keras.models import Sequential\n",
        "from tensorflow.keras.layers import Dense, Dropout,Flatten\n",
        "from tensorflow.keras.optimizers import Adam, SGD\n",
        "from tensorflow.keras.losses import SparseCategoricalCrossentropy\n",
        "from tensorflow.keras.callbacks import TensorBoard,EarlyStopping\n",
        "%load_ext tensorboard\n",
        "\n",
        "# Helper libraries\n",
        "import numpy as np\n",
        "import random\n",
        "import matplotlib.pyplot as plt\n",
        "import datetime\n",
        "\n",
        "print(tf.__version__)"
      ],
      "execution_count": 115,
      "outputs": [
        {
          "output_type": "stream",
          "text": [
            "The tensorboard extension is already loaded. To reload it, use:\n",
            "  %reload_ext tensorboard\n",
            "2.3.0\n"
          ],
          "name": "stdout"
        }
      ]
    },
    {
      "cell_type": "code",
      "metadata": {
        "id": "FT_qG_PMzg0c",
        "colab_type": "code",
        "colab": {
          "base_uri": "https://localhost:8080/",
          "height": 35
        },
        "outputId": "cea6e020-0d79-453b-e318-4dd09eb99986"
      },
      "source": [
        "import tensorflow as tf\n",
        "print(\"Num GPUs Available: \", len(tf.config.experimental.list_physical_devices('GPU')))"
      ],
      "execution_count": 12,
      "outputs": [
        {
          "output_type": "stream",
          "text": [
            "Num GPUs Available:  1\n"
          ],
          "name": "stdout"
        }
      ]
    },
    {
      "cell_type": "code",
      "metadata": {
        "id": "u0a2zCHgvjZl",
        "colab_type": "code",
        "colab": {}
      },
      "source": [
        "batch_size = 32 # The default batch size of keras.\n",
        "num_classes = 10  # Number of class for the dataset\n",
        "epochs = 100\n",
        "data_augmentation = False"
      ],
      "execution_count": 140,
      "outputs": []
    },
    {
      "cell_type": "code",
      "metadata": {
        "id": "0cnYJZMovnY_",
        "colab_type": "code",
        "colab": {
          "base_uri": "https://localhost:8080/",
          "height": 90
        },
        "outputId": "0b255ef7-8f59-4a56-eb25-44ff64920614"
      },
      "source": [
        "# The data, split between train and test sets:\n",
        "(x_train, y_train), (x_test, y_test) = cifar10.load_data()\n",
        "print('x_train shape:', x_train.shape)\n",
        "print('y_train shape:', y_train.shape)\n",
        "print(x_train.shape[0], 'train samples')\n",
        "print(x_test.shape[0], 'test samples')\n"
      ],
      "execution_count": 14,
      "outputs": [
        {
          "output_type": "stream",
          "text": [
            "x_train shape: (50000, 32, 32, 3)\n",
            "y_train shape: (50000, 1)\n",
            "50000 train samples\n",
            "10000 test samples\n"
          ],
          "name": "stdout"
        }
      ]
    },
    {
      "cell_type": "code",
      "metadata": {
        "id": "fuKGJkAkvspc",
        "colab_type": "code",
        "colab": {
          "base_uri": "https://localhost:8080/",
          "height": 350
        },
        "outputId": "7f2ec7aa-9ee0-45e2-e9a0-88162b909394"
      },
      "source": [
        "fig, axs = plt.subplots(1,2,figsize=(15,5)) \n",
        "# Count plot for training set\n",
        "sns.countplot(y_train.ravel(), ax=axs[0])\n",
        "axs[0].set_title('Distribution of training data')\n",
        "axs[0].set_xlabel('Classes')\n",
        "# Count plot for testing set\n",
        "sns.countplot(y_test.ravel(), ax=axs[1])\n",
        "axs[1].set_title('Distribution of Testing data')\n",
        "axs[1].set_xlabel('Classes')\n",
        "plt.show()"
      ],
      "execution_count": 15,
      "outputs": [
        {
          "output_type": "display_data",
          "data": {
            "image/png": "[encoded data removed]",
            "text/plain": [
              "<Figure size 1080x360 with 2 Axes>"
            ]
          },
          "metadata": {
            "tags": [],
            "needs_background": "light"
          }
        }
      ]
    },
    {
      "cell_type": "code",
      "metadata": {
        "id": "NIy0ZevBvxTI",
        "colab_type": "code",
        "colab": {}
      },
      "source": [
        "# Normalize the data. Before we need to connvert data type to float for computation.\n",
        "x_train = x_train.astype('float32')\n",
        "x_test = x_test.astype('float32')\n",
        "x_train /= 255\n",
        "x_test /= 255\n",
        "\n",
        "# Convert class vectors to binary class matrices. This is called one hot encoding.\n",
        "y_train = keras.utils.to_categorical(y_train, num_classes)\n",
        "y_test = keras.utils.to_categorical(y_test, num_classes)"
      ],
      "execution_count": 16,
      "outputs": []
    },
    {
      "cell_type": "code",
      "metadata": {
        "id": "4dyE-Vxdv-K6",
        "colab_type": "code",
        "colab": {}
      },
      "source": [
        "\n",
        "log_dir = \"logs/fit/\" + datetime.datetime.now().strftime(\"%Y%m%d-%H%M%S\")\n",
        "tensorboard_callback = TensorBoard(log_dir=log_dir, histogram_freq=1)\n",
        "earlystopping_callback = EarlyStopping(\n",
        "    monitor='val_loss', min_delta=0, patience=3, verbose=0, mode='auto',\n",
        "    baseline=None, restore_best_weights=True)"
      ],
      "execution_count": 132,
      "outputs": []
    },
    {
      "cell_type": "code",
      "metadata": {
        "id": "k-IcPqyosrcX",
        "colab_type": "code",
        "colab": {
          "base_uri": "https://localhost:8080/",
          "height": 243
        },
        "outputId": "45150819-3aa8-4b5a-e1b0-1dde2e91c726"
      },
      "source": [
        "model5 = Sequential()\n",
        "model5.add(Conv2D(32, (3, 3), activation='relu', kernel_initializer='he_uniform', padding='same', input_shape=(32, 32, 3)))\n",
        "model5.add(BatchNormalization())\n",
        "model5.add(Conv2D(32, (3, 3), activation='relu', kernel_initializer='he_uniform', padding='same'))\n",
        "model5.add(BatchNormalization())\n",
        "model5.add(MaxPool2D((2, 2)))\n",
        "model5.add(Dropout(0.2))\n",
        "model5.add(Conv2D(64, (3, 3), activation='relu', kernel_initializer='he_uniform', padding='same'))\n",
        "model5.add(BatchNormalization())\n",
        "model5.add(Conv2D(64, (3, 3), activation='relu', kernel_initializer='he_uniform', padding='same'))\n",
        "model5.add(BatchNormalization())\n",
        "model5.add(MaxPool2D((2, 2)))\n",
        "model5.add(Dropout(0.3))\n",
        "model5.add(Conv2D(128, (3, 3), activation='relu', kernel_initializer='he_uniform', padding='same'))\n",
        "model5.add(BatchNormalization())\n",
        "model5.add(Conv2D(128, (3, 3), activation='relu', kernel_initializer='he_uniform', padding='same'))\n",
        "model5.add(BatchNormalization())\n",
        "model5.add(MaxPool2D((2, 2)))\n",
        "model5.add(Dropout(0.4))\n",
        "model5.add(Flatten())\n",
        "model5.add(Dense(128, activation='relu', kernel_initializer='he_uniform'))\n",
        "model5.add(BatchNormalization())\n",
        "model5.add(Dropout(0.5))\n",
        "model5.add(Dense(10, activation='softmax'))\n",
        "# compile model\n",
        "opt = SGD(lr=0.003, momentum=0.9)\n",
        "model5.compile(optimizer= 'Adam', loss='categorical_crossentropy', metrics=['accuracy'])\n",
        "# model5.fit_generator(train_generator,epochs=200,steps_per_epoch=training_steps,validation_data=test_generator,validation_steps=validation_steps,callbacks=[board])\n",
        "history5=model5.fit(x_train,y_train,epochs=epochs,batch_size = batch_size, validation_data=(x_test,y_test),callbacks=[tensorboard_callback,earlystopping_callback])"
      ],
      "execution_count": 1,
      "outputs": [
        {
          "output_type": "error",
          "ename": "NameError",
          "evalue": "ignored",
          "traceback": [
            "\u001b[0;31m---------------------------------------------------------------------------\u001b[0m",
            "\u001b[0;31mNameError\u001b[0m                                 Traceback (most recent call last)",
            "\u001b[0;32m<ipython-input-1-b9b9bf49d913>\u001b[0m in \u001b[0;36m<module>\u001b[0;34m()\u001b[0m\n\u001b[0;32m----> 1\u001b[0;31m \u001b[0mmodel5\u001b[0m \u001b[0;34m=\u001b[0m \u001b[0mSequential\u001b[0m\u001b[0;34m(\u001b[0m\u001b[0;34m)\u001b[0m\u001b[0;34m\u001b[0m\u001b[0;34m\u001b[0m\u001b[0m\n\u001b[0m\u001b[1;32m      2\u001b[0m \u001b[0mmodel5\u001b[0m\u001b[0;34m.\u001b[0m\u001b[0madd\u001b[0m\u001b[0;34m(\u001b[0m\u001b[0mConv2D\u001b[0m\u001b[0;34m(\u001b[0m\u001b[0;36m32\u001b[0m\u001b[0;34m,\u001b[0m \u001b[0;34m(\u001b[0m\u001b[0;36m3\u001b[0m\u001b[0;34m,\u001b[0m \u001b[0;36m3\u001b[0m\u001b[0;34m)\u001b[0m\u001b[0;34m,\u001b[0m \u001b[0mactivation\u001b[0m\u001b[0;34m=\u001b[0m\u001b[0;34m'relu'\u001b[0m\u001b[0;34m,\u001b[0m \u001b[0mkernel_initializer\u001b[0m\u001b[0;34m=\u001b[0m\u001b[0;34m'he_uniform'\u001b[0m\u001b[0;34m,\u001b[0m \u001b[0mpadding\u001b[0m\u001b[0;34m=\u001b[0m\u001b[0;34m'same'\u001b[0m\u001b[0;34m,\u001b[0m \u001b[0minput_shape\u001b[0m\u001b[0;34m=\u001b[0m\u001b[0;34m(\u001b[0m\u001b[0;36m32\u001b[0m\u001b[0;34m,\u001b[0m \u001b[0;36m32\u001b[0m\u001b[0;34m,\u001b[0m \u001b[0;36m3\u001b[0m\u001b[0;34m)\u001b[0m\u001b[0;34m)\u001b[0m\u001b[0;34m)\u001b[0m\u001b[0;34m\u001b[0m\u001b[0;34m\u001b[0m\u001b[0m\n\u001b[1;32m      3\u001b[0m \u001b[0mmodel5\u001b[0m\u001b[0;34m.\u001b[0m\u001b[0madd\u001b[0m\u001b[0;34m(\u001b[0m\u001b[0mBatchNormalization\u001b[0m\u001b[0;34m(\u001b[0m\u001b[0;34m)\u001b[0m\u001b[0;34m)\u001b[0m\u001b[0;34m\u001b[0m\u001b[0;34m\u001b[0m\u001b[0m\n\u001b[1;32m      4\u001b[0m \u001b[0mmodel5\u001b[0m\u001b[0;34m.\u001b[0m\u001b[0madd\u001b[0m\u001b[0;34m(\u001b[0m\u001b[0mConv2D\u001b[0m\u001b[0;34m(\u001b[0m\u001b[0;36m32\u001b[0m\u001b[0;34m,\u001b[0m \u001b[0;34m(\u001b[0m\u001b[0;36m3\u001b[0m\u001b[0;34m,\u001b[0m \u001b[0;36m3\u001b[0m\u001b[0;34m)\u001b[0m\u001b[0;34m,\u001b[0m \u001b[0mactivation\u001b[0m\u001b[0;34m=\u001b[0m\u001b[0;34m'relu'\u001b[0m\u001b[0;34m,\u001b[0m \u001b[0mkernel_initializer\u001b[0m\u001b[0;34m=\u001b[0m\u001b[0;34m'he_uniform'\u001b[0m\u001b[0;34m,\u001b[0m \u001b[0mpadding\u001b[0m\u001b[0;34m=\u001b[0m\u001b[0;34m'same'\u001b[0m\u001b[0;34m)\u001b[0m\u001b[0;34m)\u001b[0m\u001b[0;34m\u001b[0m\u001b[0;34m\u001b[0m\u001b[0m\n\u001b[1;32m      5\u001b[0m \u001b[0mmodel5\u001b[0m\u001b[0;34m.\u001b[0m\u001b[0madd\u001b[0m\u001b[0;34m(\u001b[0m\u001b[0mBatchNormalization\u001b[0m\u001b[0;34m(\u001b[0m\u001b[0;34m)\u001b[0m\u001b[0;34m)\u001b[0m\u001b[0;34m\u001b[0m\u001b[0;34m\u001b[0m\u001b[0m\n",
            "\u001b[0;31mNameError\u001b[0m: name 'Sequential' is not defined"
          ]
        }
      ]
    },
    {
      "cell_type": "code",
      "metadata": {
        "id": "fpNqslnsyYgK",
        "colab_type": "code",
        "colab": {
          "base_uri": "https://localhost:8080/",
          "height": 998
        },
        "outputId": "805f5967-1a51-4bb4-efe0-29a9539a18d4"
      },
      "source": [
        "model5.summary()"
      ],
      "execution_count": 120,
      "outputs": [
        {
          "output_type": "stream",
          "text": [
            "Model: \"sequential_13\"\n",
            "_________________________________________________________________\n",
            "Layer (type)                 Output Shape              Param #   \n",
            "=================================================================\n",
            "conv2d_74 (Conv2D)           (None, 32, 32, 32)        896       \n",
            "_________________________________________________________________\n",
            "batch_normalization_87 (Batc (None, 32, 32, 32)        128       \n",
            "_________________________________________________________________\n",
            "conv2d_75 (Conv2D)           (None, 32, 32, 32)        9248      \n",
            "_________________________________________________________________\n",
            "batch_normalization_88 (Batc (None, 32, 32, 32)        128       \n",
            "_________________________________________________________________\n",
            "max_pooling2d_37 (MaxPooling (None, 16, 16, 32)        0         \n",
            "_________________________________________________________________\n",
            "dropout_50 (Dropout)         (None, 16, 16, 32)        0         \n",
            "_________________________________________________________________\n",
            "conv2d_76 (Conv2D)           (None, 16, 16, 64)        18496     \n",
            "_________________________________________________________________\n",
            "batch_normalization_89 (Batc (None, 16, 16, 64)        256       \n",
            "_________________________________________________________________\n",
            "conv2d_77 (Conv2D)           (None, 16, 16, 64)        36928     \n",
            "_________________________________________________________________\n",
            "batch_normalization_90 (Batc (None, 16, 16, 64)        256       \n",
            "_________________________________________________________________\n",
            "max_pooling2d_38 (MaxPooling (None, 8, 8, 64)          0         \n",
            "_________________________________________________________________\n",
            "dropout_51 (Dropout)         (None, 8, 8, 64)          0         \n",
            "_________________________________________________________________\n",
            "conv2d_78 (Conv2D)           (None, 8, 8, 128)         73856     \n",
            "_________________________________________________________________\n",
            "batch_normalization_91 (Batc (None, 8, 8, 128)         512       \n",
            "_________________________________________________________________\n",
            "conv2d_79 (Conv2D)           (None, 8, 8, 128)         147584    \n",
            "_________________________________________________________________\n",
            "batch_normalization_92 (Batc (None, 8, 8, 128)         512       \n",
            "_________________________________________________________________\n",
            "max_pooling2d_39 (MaxPooling (None, 4, 4, 128)         0         \n",
            "_________________________________________________________________\n",
            "dropout_52 (Dropout)         (None, 4, 4, 128)         0         \n",
            "_________________________________________________________________\n",
            "flatten_13 (Flatten)         (None, 2048)              0         \n",
            "_________________________________________________________________\n",
            "dense_26 (Dense)             (None, 128)               262272    \n",
            "_________________________________________________________________\n",
            "batch_normalization_93 (Batc (None, 128)               512       \n",
            "_________________________________________________________________\n",
            "dropout_53 (Dropout)         (None, 128)               0         \n",
            "_________________________________________________________________\n",
            "dense_27 (Dense)             (None, 10)                1290      \n",
            "=================================================================\n",
            "Total params: 552,874\n",
            "Trainable params: 551,722\n",
            "Non-trainable params: 1,152\n",
            "_________________________________________________________________\n"
          ],
          "name": "stdout"
        }
      ]
    },
    {
      "cell_type": "code",
      "metadata": {
        "id": "-IKvUFIywDJW",
        "colab_type": "code",
        "colab": {}
      },
      "source": [
        "history = None  # For recording the history of trainning process.\n",
        "if not data_augmentation:\n",
        "    print('Not using data augmentation.')\n",
        "    history = model.fit(x_train, y_train,\n",
        "              batch_size=batch_size,\n",
        "              epochs=epochs,validation_split = 0.2,\n",
        "              validation_data=(x_test, y_test), callbacks=[tensorboard_callback,earlystopping_callback],\n",
        "              shuffle=True)\n",
        "else:\n",
        "    print('Using real-time data augmentation.')\n",
        "    # This will do preprocessing and realtime data augmentation:\n",
        "    datagen = ImageDataGenerator(\n",
        "        featurewise_center=False,  # set input mean to 0 over the dataset\n",
        "        samplewise_center=False,  # set each sample mean to 0\n",
        "        featurewise_std_normalization=False,  # divide inputs by std of the dataset\n",
        "        samplewise_std_normalization=False,  # divide each input by its std\n",
        "        zca_whitening=False,  # apply ZCA whitening\n",
        "        zca_epsilon=1e-06,  # epsilon for ZCA whitening\n",
        "        rotation_range=0,  # randomly rotate images in the range (degrees, 0 to 180)\n",
        "        # randomly shift images horizontally (fraction of total width)\n",
        "        width_shift_range=0.1,\n",
        "        # randomly shift images vertically (fraction of total height)\n",
        "        height_shift_range=0.1,\n",
        "        shear_range=0.,  # set range for random shear\n",
        "        zoom_range=0.,  # set range for random zoom\n",
        "        channel_shift_range=0.,  # set range for random channel shifts\n",
        "        # set mode for filling points outside the input boundaries\n",
        "        fill_mode='nearest',\n",
        "        cval=0.,  # value used for fill_mode = \"constant\"\n",
        "        horizontal_flip=True,  # randomly flip images\n",
        "        vertical_flip=False,  # randomly flip images\n",
        "        # set rescaling factor (applied before any other transformation)\n",
        "        rescale=None,\n",
        "        # set function that will be applied on each input\n",
        "        preprocessing_function=None,\n",
        "        # image data format, either \"channels_first\" or \"channels_last\"\n",
        "        data_format=None,\n",
        "        # fraction of images reserved for validation (strictly between 0 and 1)\n",
        "        validation_split=0.0)\n",
        "\n",
        "    # Compute quantities required for feature-w,callbacks=[tensorboard_callback,earlystopping_callback]ise normalization\n",
        "    # (std, mean, and principal components if ZCA whitening is applied).\n",
        "    datagen.fit(x_train)\n",
        "\n",
        "    # Fit the model on the batches generated by datagen.flow().\n",
        "    history = model.fit_generator(datagen.flow(x_train, y_train,\n",
        "                                    batch_size=batch_size),\n",
        "                                    epochs=epochs,\n",
        "                                    validation_data=(x_test, y_test),\n",
        "                                    workers=4,callbacks=[tensorboard_callback,earlystopping_callback])"
      ],
      "execution_count": null,
      "outputs": []
    },
    {
      "cell_type": "code",
      "metadata": {
        "id": "el3Y1YbqTinx",
        "colab_type": "code",
        "colab": {
          "base_uri": "https://localhost:8080/",
          "height": 243
        },
        "outputId": "cf0dec39-0c1b-412e-b098-a4e760058bb6"
      },
      "source": [
        "def plotmodelhistory(history): \n",
        "    fig, axs = plt.subplots(1,2,figsize=(15,5)) \n",
        "    # summarize history for accuracy\n",
        "    axs[0].plot(history.history['accuracy']) \n",
        "    axs[0].plot(history.history['val_accuracy']) \n",
        "    axs[0].set_title('Model Accuracy')\n",
        "    axs[0].set_ylabel('Accuracy') \n",
        "    axs[0].set_xlabel('Epoch')\n",
        "    axs[0].legend(['train', 'validate'], loc='upper left')\n",
        "    # summarize history for loss\n",
        "    axs[1].plot(history.history['loss']) \n",
        "    axs[1].plot(history.history['val_loss']) \n",
        "    axs[1].set_title('Model Loss')\n",
        "    axs[1].set_ylabel('Loss') \n",
        "    axs[1].set_xlabel('Epoch')\n",
        "    axs[1].legend(['train', 'validate'], loc='upper left')\n",
        "    plt.show()\n",
        "\n",
        "# list all data in history\n",
        "print(history.history.keys())\n",
        "\n",
        "plotmodelhistory(history)"
      ],
      "execution_count": 24,
      "outputs": [
        {
          "output_type": "error",
          "ename": "NameError",
          "evalue": "ignored",
          "traceback": [
            "\u001b[0;31m---------------------------------------------------------------------------\u001b[0m",
            "\u001b[0;31mNameError\u001b[0m                                 Traceback (most recent call last)",
            "\u001b[0;32m<ipython-input-24-d35239ce4e8b>\u001b[0m in \u001b[0;36m<module>\u001b[0;34m()\u001b[0m\n\u001b[1;32m     18\u001b[0m \u001b[0;34m\u001b[0m\u001b[0m\n\u001b[1;32m     19\u001b[0m \u001b[0;31m# list all data in history\u001b[0m\u001b[0;34m\u001b[0m\u001b[0;34m\u001b[0m\u001b[0;34m\u001b[0m\u001b[0m\n\u001b[0;32m---> 20\u001b[0;31m \u001b[0mprint\u001b[0m\u001b[0;34m(\u001b[0m\u001b[0mhistory\u001b[0m\u001b[0;34m.\u001b[0m\u001b[0mhistory\u001b[0m\u001b[0;34m.\u001b[0m\u001b[0mkeys\u001b[0m\u001b[0;34m(\u001b[0m\u001b[0;34m)\u001b[0m\u001b[0;34m)\u001b[0m\u001b[0;34m\u001b[0m\u001b[0;34m\u001b[0m\u001b[0m\n\u001b[0m\u001b[1;32m     21\u001b[0m \u001b[0;34m\u001b[0m\u001b[0m\n\u001b[1;32m     22\u001b[0m \u001b[0mplotmodelhistory\u001b[0m\u001b[0;34m(\u001b[0m\u001b[0mhistory\u001b[0m\u001b[0;34m)\u001b[0m\u001b[0;34m\u001b[0m\u001b[0;34m\u001b[0m\u001b[0m\n",
            "\u001b[0;31mNameError\u001b[0m: name 'history' is not defined"
          ]
        }
      ]
    },
    {
      "cell_type": "code",
      "metadata": {
        "id": "cqU7IrT3PMEK",
        "colab_type": "code",
        "colab": {}
      },
      "source": [
        "%tensorboard --logdir logs/fit"
      ],
      "execution_count": null,
      "outputs": []
    },
    {
      "cell_type": "code",
      "metadata": {
        "id": "NWzUcJC42WkE",
        "colab_type": "code",
        "colab": {
          "base_uri": "https://localhost:8080/",
          "height": 72
        },
        "outputId": "b8071872-5f77-460f-80be-fab3bfdd8837"
      },
      "source": [
        "# Score trained model.\n",
        "scores = model5.evaluate(x_test, y_test, verbose=1)\n",
        "print('Test loss:', scores[0])\n",
        "print('Test accuracy:', scores[1])\n",
        "\n",
        "# make prediction.\n",
        "pred = model5.predict(x_test)"
      ],
      "execution_count": 121,
      "outputs": [
        {
          "output_type": "stream",
          "text": [
            "313/313 [==============================] - 2s 7ms/step - loss: 0.4671 - accuracy: 0.8463\n",
            "Test loss: 0.4670808017253876\n",
            "Test accuracy: 0.8463000059127808\n"
          ],
          "name": "stdout"
        }
      ]
    },
    {
      "cell_type": "code",
      "metadata": {
        "id": "TnFnCs1Zyq-Y",
        "colab_type": "code",
        "colab": {
          "base_uri": "https://localhost:8080/",
          "height": 253
        },
        "outputId": "348c7fcf-ec6a-494d-8d79-91c624e73130"
      },
      "source": [
        "pred"
      ],
      "execution_count": 26,
      "outputs": [
        {
          "output_type": "execute_result",
          "data": {
            "text/plain": [
              "array([[6.34396711e-05, 3.49730544e-05, 3.82677943e-04, ...,\n",
              "        2.09732007e-05, 7.40508112e-05, 2.68355216e-05],\n",
              "       [1.19169219e-03, 4.57698405e-02, 4.19548599e-07, ...,\n",
              "        3.05669552e-08, 9.52917516e-01, 1.19444456e-04],\n",
              "       [1.03838113e-03, 1.03844737e-03, 1.22225421e-04, ...,\n",
              "        3.24716493e-05, 9.97147739e-01, 3.71447357e-04],\n",
              "       ...,\n",
              "       [2.67132850e-06, 7.68290101e-06, 2.73257215e-03, ...,\n",
              "        1.65193062e-03, 1.39905951e-05, 7.21942070e-06],\n",
              "       [2.26576328e-02, 9.07484710e-01, 6.10342110e-03, ...,\n",
              "        5.71006269e-04, 4.44561912e-04, 1.57357822e-03],\n",
              "       [1.34290135e-08, 1.75138595e-07, 1.49831192e-06, ...,\n",
              "        9.99912739e-01, 9.07342701e-10, 1.64864620e-08]], dtype=float32)"
            ]
          },
          "metadata": {
            "tags": []
          },
          "execution_count": 26
        }
      ]
    },
    {
      "cell_type": "code",
      "metadata": {
        "id": "r5LSzSAQcdDl",
        "colab_type": "code",
        "colab": {
          "base_uri": "https://localhost:8080/",
          "height": 35
        },
        "outputId": "ddb1924c-ee9d-4a4f-9aff-5bdaf89a67be"
      },
      "source": [
        "np.argmax(pred) "
      ],
      "execution_count": 27,
      "outputs": [
        {
          "output_type": "execute_result",
          "data": {
            "text/plain": [
              "18497"
            ]
          },
          "metadata": {
            "tags": []
          },
          "execution_count": 27
        }
      ]
    },
    {
      "cell_type": "code",
      "metadata": {
        "id": "_vs0nwH8y7kK",
        "colab_type": "code",
        "colab": {}
      },
      "source": [
        "import pandas as pd\n",
        "test_data = pd.read_csv(\"https://raw.githubusercontent.com/dphi-official/Datasets/master/cifar_image_flattened_pixels.csv\")"
      ],
      "execution_count": 28,
      "outputs": []
    },
    {
      "cell_type": "code",
      "metadata": {
        "id": "9U5u3HYDn0M6",
        "colab_type": "code",
        "colab": {
          "base_uri": "https://localhost:8080/",
          "height": 35
        },
        "outputId": "35f764c0-4403-4ac8-dad1-591b5ceefbd2"
      },
      "source": [
        "samples_to_predict = np.array(test_data)\n",
        "\n",
        "\n",
        "s = samples_to_predict.astype('float32')\n",
        "s /= 255\n",
        "\n",
        "sa = s.reshape(2000,32,32,3)\n",
        "sa.shape"
      ],
      "execution_count": 67,
      "outputs": [
        {
          "output_type": "execute_result",
          "data": {
            "text/plain": [
              "(2000, 32, 32, 3)"
            ]
          },
          "metadata": {
            "tags": []
          },
          "execution_count": 67
        }
      ]
    },
    {
      "cell_type": "code",
      "metadata": {
        "id": "Q191BIKWpoF7",
        "colab_type": "code",
        "colab": {}
      },
      "source": [
        "pred6 = model5.predict(sa)"
      ],
      "execution_count": 110,
      "outputs": []
    },
    {
      "cell_type": "code",
      "metadata": {
        "id": "ythHQ-xkq05U",
        "colab_type": "code",
        "colab": {
          "base_uri": "https://localhost:8080/",
          "height": 253
        },
        "outputId": "20ad5cc9-53ee-420b-91be-efd492065931"
      },
      "source": [
        "pred6"
      ],
      "execution_count": 111,
      "outputs": [
        {
          "output_type": "execute_result",
          "data": {
            "text/plain": [
              "array([[1.1494531e-05, 3.1522489e-09, 9.9990070e-01, ..., 6.2157454e-07,\n",
              "        1.9480237e-06, 2.5085766e-08],\n",
              "       [4.9832579e-06, 1.4582891e-06, 3.8703348e-04, ..., 1.1908823e-05,\n",
              "        7.8190627e-05, 1.5110344e-07],\n",
              "       [9.0921982e-05, 5.1330910e-05, 5.5599212e-05, ..., 8.8145465e-01,\n",
              "        1.4777826e-06, 5.5505916e-05],\n",
              "       ...,\n",
              "       [1.0505528e-04, 7.8862016e-05, 3.9852210e-03, ..., 2.1368877e-03,\n",
              "        8.8215078e-04, 1.4755722e-04],\n",
              "       [3.0929004e-05, 2.3418700e-06, 1.4093165e-04, ..., 1.5191919e-05,\n",
              "        4.8911108e-05, 4.5541037e-06],\n",
              "       [7.7735423e-04, 5.8059071e-05, 5.7810023e-02, ..., 5.2632164e-04,\n",
              "        7.8235171e-04, 3.6603661e-04]], dtype=float32)"
            ]
          },
          "metadata": {
            "tags": []
          },
          "execution_count": 111
        }
      ]
    },
    {
      "cell_type": "code",
      "metadata": {
        "id": "PCDXn3-arowF",
        "colab_type": "code",
        "colab": {
          "base_uri": "https://localhost:8080/",
          "height": 35
        },
        "outputId": "499d1144-9f31-483a-dfb4-ec016e30f364"
      },
      "source": [
        "# Generate arg maxes for predictions\n",
        "classes = np.argmax(pred6, axis = 1)\n",
        "c = print(classes)"
      ],
      "execution_count": 112,
      "outputs": [
        {
          "output_type": "stream",
          "text": [
            "[2 3 7 ... 3 3 4]\n"
          ],
          "name": "stdout"
        }
      ]
    },
    {
      "cell_type": "code",
      "metadata": {
        "id": "LJs0tAT6y_BE",
        "colab_type": "code",
        "colab": {
          "base_uri": "https://localhost:8080/",
          "height": 55
        },
        "outputId": "e78f4eb1-d445-4b5b-c8ab-4c7977879079"
      },
      "source": [
        "print(*classes, sep = \", \")  "
      ],
      "execution_count": 113,
      "outputs": [
        {
          "output_type": "stream",
          "text": [
            "2, 3, 7, 8, 6, 1, 3, 7, 3, 5, 8, 1, 4, 1, 4, 7, 0, 0, 7, 6, 5, 9, 4, 8, 4, 0, 8, 7, 0, 7, 7, 3, 2, 4, 2, 0, 6, 4, 2, 4, 5, 2, 5, 1, 4, 3, 5, 2, 4, 4, 3, 8, 7, 5, 8, 1, 1, 7, 1, 0, 7, 1, 7, 6, 1, 1, 9, 8, 3, 1, 6, 6, 9, 7, 2, 0, 4, 6, 4, 8, 4, 5, 8, 9, 1, 7, 3, 6, 3, 4, 5, 8, 0, 8, 1, 0, 9, 7, 1, 6, 8, 5, 2, 7, 4, 9, 4, 8, 3, 0, 3, 0, 9, 0, 1, 4, 6, 5, 0, 2, 1, 6, 1, 0, 6, 3, 3, 0, 1, 8, 4, 6, 4, 8, 3, 7, 9, 4, 9, 6, 7, 0, 5, 4, 4, 6, 4, 8, 2, 0, 3, 4, 2, 8, 5, 5, 5, 5, 2, 4, 5, 2, 9, 8, 7, 5, 6, 1, 8, 1, 2, 3, 9, 2, 1, 6, 0, 2, 3, 7, 2, 7, 2, 3, 0, 6, 4, 7, 4, 3, 6, 8, 0, 5, 1, 6, 4, 6, 8, 1, 8, 5, 2, 6, 8, 0, 1, 0, 0, 3, 2, 8, 1, 5, 6, 8, 6, 4, 1, 3, 5, 4, 7, 7, 5, 7, 3, 0, 3, 7, 7, 6, 4, 1, 9, 8, 8, 8, 0, 7, 1, 7, 0, 5, 2, 4, 3, 4, 6, 1, 9, 8, 0, 9, 6, 5, 3, 8, 0, 2, 4, 8, 2, 9, 8, 3, 0, 1, 0, 2, 8, 8, 8, 9, 5, 6, 1, 6, 3, 1, 0, 7, 3, 1, 4, 0, 4, 5, 0, 4, 7, 4, 0, 1, 8, 1, 3, 3, 9, 2, 2, 2, 4, 8, 0, 4, 4, 9, 5, 9, 2, 3, 7, 1, 1, 3, 2, 3, 8, 0, 5, 9, 1, 9, 4, 1, 9, 1, 8, 8, 6, 4, 8, 8, 3, 9, 6, 2, 5, 2, 4, 0, 1, 2, 6, 4, 6, 3, 8, 7, 0, 2, 0, 0, 3, 4, 1, 1, 9, 0, 8, 4, 6, 1, 1, 7, 4, 3, 9, 7, 0, 6, 1, 0, 7, 3, 5, 9, 2, 5, 3, 9, 4, 0, 0, 5, 2, 1, 7, 8, 5, 7, 6, 6, 8, 4, 4, 2, 4, 7, 1, 6, 7, 8, 7, 9, 1, 9, 6, 6, 1, 5, 8, 7, 9, 4, 3, 3, 4, 9, 6, 0, 8, 3, 9, 0, 3, 6, 3, 3, 4, 2, 3, 8, 2, 8, 9, 4, 7, 1, 2, 8, 0, 9, 9, 4, 4, 9, 9, 5, 9, 5, 6, 5, 7, 4, 1, 2, 1, 1, 3, 3, 8, 2, 5, 3, 8, 5, 8, 0, 0, 7, 5, 9, 6, 9, 1, 4, 5, 5, 8, 4, 7, 1, 3, 9, 4, 5, 1, 7, 4, 6, 7, 9, 3, 4, 0, 6, 2, 3, 8, 4, 9, 7, 7, 4, 1, 9, 6, 1, 6, 8, 6, 8, 3, 0, 8, 1, 0, 5, 1, 0, 3, 1, 0, 8, 4, 9, 2, 2, 4, 9, 5, 6, 4, 2, 1, 3, 7, 1, 4, 9, 4, 8, 0, 1, 8, 5, 6, 0, 3, 1, 5, 5, 6, 4, 0, 2, 7, 2, 7, 2, 0, 8, 7, 0, 6, 7, 9, 3, 8, 8, 0, 6, 8, 9, 4, 5, 3, 0, 0, 5, 1, 5, 7, 6, 1, 2, 0, 6, 1, 6, 6, 9, 3, 9, 9, 2, 0, 8, 4, 0, 0, 2, 9, 7, 6, 8, 4, 3, 4, 3, 1, 4, 9, 2, 6, 5, 7, 6, 5, 9, 2, 3, 1, 9, 0, 2, 2, 9, 0, 1, 2, 1, 4, 2, 7, 5, 5, 1, 2, 1, 7, 2, 6, 6, 3, 7, 0, 1, 2, 3, 0, 7, 1, 4, 7, 5, 5, 9, 8, 2, 3, 4, 1, 3, 9, 9, 7, 9, 9, 5, 9, 6, 4, 9, 0, 4, 8, 9, 5, 5, 7, 0, 8, 0, 0, 5, 1, 4, 4, 0, 8, 6, 1, 7, 8, 0, 2, 7, 6, 3, 7, 2, 6, 3, 6, 8, 4, 4, 0, 7, 7, 5, 9, 7, 0, 3, 4, 5, 4, 8, 6, 9, 5, 0, 7, 7, 6, 9, 8, 5, 4, 9, 3, 2, 2, 5, 4, 0, 8, 3, 6, 6, 7, 7, 9, 5, 8, 9, 4, 9, 1, 5, 6, 7, 7, 9, 2, 8, 1, 4, 3, 1, 0, 1, 9, 9, 2, 9, 0, 5, 4, 1, 6, 8, 4, 1, 2, 2, 3, 4, 7, 1, 7, 0, 2, 9, 9, 6, 6, 9, 2, 7, 0, 1, 8, 8, 4, 4, 6, 9, 6, 8, 5, 3, 9, 7, 8, 3, 3, 8, 0, 5, 6, 4, 2, 8, 0, 3, 7, 8, 0, 8, 4, 7, 1, 7, 4, 8, 2, 8, 3, 6, 8, 0, 6, 8, 2, 0, 4, 6, 8, 0, 7, 5, 8, 0, 9, 2, 5, 1, 6, 2, 1, 7, 9, 3, 6, 3, 6, 1, 4, 1, 3, 0, 3, 7, 9, 0, 6, 6, 8, 5, 6, 2, 9, 7, 5, 7, 0, 7, 6, 5, 9, 5, 8, 0, 5, 9, 6, 6, 1, 6, 2, 0, 3, 3, 3, 8, 6, 8, 7, 5, 5, 1, 9, 5, 3, 4, 5, 2, 2, 1, 5, 6, 4, 5, 4, 6, 9, 0, 9, 6, 8, 7, 5, 2, 6, 6, 3, 7, 1, 7, 3, 0, 1, 7, 6, 7, 7, 9, 5, 5, 4, 4, 6, 9, 6, 0, 3, 6, 1, 2, 6, 5, 0, 4, 0, 6, 4, 6, 7, 5, 4, 7, 8, 6, 1, 0, 4, 7, 6, 8, 7, 9, 5, 3, 3, 9, 3, 3, 1, 1, 2, 0, 6, 8, 9, 8, 1, 2, 8, 9, 0, 8, 4, 1, 4, 4, 2, 9, 2, 8, 7, 5, 1, 4, 9, 7, 8, 3, 5, 5, 4, 6, 7, 5, 8, 5, 0, 7, 5, 4, 3, 5, 7, 0, 2, 1, 0, 5, 4, 5, 7, 9, 0, 8, 8, 5, 4, 6, 6, 4, 4, 3, 6, 2, 1, 7, 1, 0, 1, 4, 7, 2, 1, 1, 2, 8, 0, 3, 1, 0, 1, 3, 0, 5, 5, 5, 2, 7, 7, 6, 4, 8, 7, 5, 1, 6, 5, 2, 0, 2, 1, 1, 6, 9, 9, 5, 0, 8, 5, 9, 6, 6, 0, 7, 9, 7, 0, 7, 3, 4, 0, 1, 5, 7, 8, 0, 3, 7, 9, 6, 8, 6, 6, 1, 9, 5, 1, 1, 1, 2, 8, 5, 5, 1, 3, 3, 4, 1, 2, 8, 2, 9, 5, 4, 9, 2, 4, 6, 5, 5, 5, 8, 0, 9, 3, 0, 6, 1, 9, 1, 1, 9, 9, 6, 2, 8, 8, 5, 7, 6, 9, 9, 6, 6, 2, 6, 7, 7, 5, 5, 5, 7, 3, 0, 8, 9, 1, 0, 0, 9, 6, 3, 7, 5, 8, 4, 1, 6, 4, 4, 8, 7, 8, 5, 1, 8, 7, 8, 2, 4, 7, 3, 1, 0, 9, 6, 0, 5, 8, 8, 8, 6, 3, 8, 8, 1, 3, 6, 6, 3, 2, 1, 4, 7, 8, 1, 1, 2, 5, 9, 0, 4, 7, 5, 9, 1, 6, 1, 9, 4, 5, 8, 8, 2, 2, 0, 4, 0, 5, 5, 0, 9, 7, 9, 6, 4, 8, 7, 6, 1, 9, 3, 7, 5, 1, 1, 3, 4, 4, 2, 6, 6, 3, 3, 4, 9, 4, 1, 7, 7, 3, 7, 2, 1, 4, 7, 9, 0, 1, 5, 5, 7, 8, 5, 1, 5, 8, 1, 8, 2, 0, 6, 9, 0, 1, 4, 2, 8, 5, 3, 6, 8, 6, 5, 3, 9, 4, 0, 3, 4, 7, 8, 3, 5, 3, 2, 0, 4, 5, 1, 4, 9, 2, 1, 8, 9, 5, 4, 6, 9, 6, 5, 0, 1, 4, 8, 9, 5, 1, 8, 0, 5, 2, 4, 5, 8, 6, 0, 1, 2, 0, 9, 9, 1, 4, 6, 8, 0, 3, 3, 9, 3, 4, 6, 1, 4, 1, 1, 4, 2, 7, 5, 4, 0, 6, 2, 9, 8, 0, 0, 3, 0, 1, 1, 6, 6, 4, 6, 3, 5, 8, 0, 5, 1, 0, 1, 8, 0, 0, 8, 3, 4, 8, 0, 4, 5, 6, 2, 7, 5, 3, 3, 8, 6, 0, 7, 5, 8, 3, 0, 0, 2, 0, 6, 6, 1, 7, 7, 4, 7, 5, 8, 1, 6, 1, 2, 7, 1, 6, 7, 9, 0, 7, 5, 1, 2, 5, 7, 6, 5, 1, 6, 0, 9, 8, 8, 9, 8, 9, 1, 1, 1, 8, 2, 1, 6, 5, 8, 1, 6, 4, 3, 7, 6, 5, 4, 7, 3, 2, 4, 9, 9, 8, 4, 1, 0, 0, 9, 9, 0, 5, 5, 3, 9, 7, 0, 2, 7, 2, 7, 5, 5, 1, 9, 5, 5, 5, 1, 6, 8, 5, 2, 2, 2, 6, 3, 6, 2, 7, 3, 0, 8, 5, 1, 6, 0, 4, 1, 0, 7, 9, 5, 3, 8, 6, 2, 8, 4, 7, 4, 8, 1, 5, 5, 6, 6, 1, 8, 7, 4, 0, 5, 0, 6, 6, 1, 3, 6, 2, 2, 2, 0, 2, 4, 8, 8, 3, 7, 7, 5, 1, 8, 1, 3, 4, 7, 4, 0, 8, 1, 6, 2, 8, 4, 2, 7, 8, 2, 4, 4, 8, 7, 1, 0, 5, 3, 3, 6, 4, 7, 0, 6, 5, 1, 6, 9, 3, 0, 1, 1, 7, 5, 4, 8, 8, 1, 5, 3, 4, 4, 4, 8, 1, 5, 8, 9, 9, 3, 4, 0, 6, 2, 5, 6, 1, 3, 1, 6, 9, 8, 3, 2, 3, 0, 0, 1, 6, 2, 6, 3, 1, 2, 6, 1, 5, 9, 8, 7, 8, 7, 2, 3, 8, 9, 5, 0, 2, 4, 6, 1, 2, 2, 9, 2, 2, 1, 9, 3, 2, 4, 7, 8, 4, 7, 7, 9, 8, 7, 4, 0, 9, 5, 6, 9, 5, 7, 6, 2, 5, 8, 9, 3, 9, 7, 4, 6, 4, 8, 0, 6, 3, 7, 6, 6, 4, 9, 0, 2, 3, 7, 5, 7, 0, 3, 4, 6, 1, 9, 4, 8, 5, 7, 3, 2, 1, 3, 2, 0, 2, 2, 6, 2, 7, 1, 3, 3, 7, 9, 0, 1, 1, 3, 7, 4, 6, 7, 4, 8, 5, 3, 5, 7, 8, 0, 0, 7, 8, 4, 7, 0, 3, 2, 1, 2, 0, 9, 0, 3, 1, 8, 8, 3, 4, 8, 8, 7, 0, 0, 6, 5, 5, 8, 4, 9, 9, 1, 9, 1, 2, 5, 2, 5, 4, 7, 0, 6, 1, 8, 8, 2, 7, 3, 1, 9, 4, 6, 2, 6, 2, 4, 0, 1, 8, 5, 1, 3, 4, 8, 1, 9, 0, 6, 2, 3, 8, 5, 6, 6, 6, 2, 3, 2, 9, 8, 8, 2, 7, 3, 9, 0, 4, 0, 9, 5, 9, 0, 6, 2, 2, 5, 2, 0, 6, 0, 1, 1, 3, 7, 6, 5, 6, 2, 9, 3, 4, 8, 6, 9, 1, 5, 0, 4, 5, 9, 0, 5, 7, 2, 2, 0, 7, 4, 7, 5, 6, 8, 0, 0, 5, 3, 9, 4, 8, 4, 8, 5, 6, 9, 1, 5, 4, 4, 9, 3, 1, 3, 4, 7, 3, 5, 3, 4, 8, 5, 2, 9, 9, 0, 7, 8, 7, 3, 5, 1, 8, 6, 4, 5, 9, 4, 5, 5, 3, 1, 9, 5, 2, 5, 6, 5, 1, 5, 9, 8, 8, 1, 4, 9, 9, 1, 0, 3, 1, 0, 3, 3, 0, 2, 1, 1, 6, 9, 3, 4, 9, 8, 5, 9, 5, 8, 9, 8, 2, 3, 3, 4\n"
          ],
          "name": "stdout"
        }
      ]
    },
    {
      "cell_type": "code",
      "metadata": {
        "id": "TLs1waxBGS2D",
        "colab_type": "code",
        "colab": {}
      },
      "source": [
        "res = pd.DataFrame(classes) #preditcions are nothing but the final predictions of your model on input features of your new unseen test data\n",
        "res.index = x_test_data.index # its important for comparison. Here \"test_new\" is your new test dataset\n",
        "res.columns = [\"prediction\"]\n",
        "res.to_csv(\"prediction_results.csv\")      # the csv file will be saved locally on the same location where this notebook is located."
      ],
      "execution_count": 91,
      "outputs": []
    },
    {
      "cell_type": "code",
      "metadata": {
        "id": "jZC2OJqLH-5g",
        "colab_type": "code",
        "colab": {
          "base_uri": "https://localhost:8080/",
          "height": 17
        },
        "outputId": "64911cab-28d7-42ca-9bb6-bc0fc1dc2cb2"
      },
      "source": [
        "from google.colab import files\n",
        "files.download('prediction_results.csv')"
      ],
      "execution_count": 83,
      "outputs": [
        {
          "output_type": "display_data",
          "data": {
            "application/javascript": [
              "\n",
              "    async function download(id, filename, size) {\n",
              "      if (!google.colab.kernel.accessAllowed) {\n",
              "        return;\n",
              "      }\n",
              "      const div = document.createElement('div');\n",
              "      const label = document.createElement('label');\n",
              "      label.textContent = `Downloading \"${filename}\": `;\n",
              "      div.appendChild(label);\n",
              "      const progress = document.createElement('progress');\n",
              "      progress.max = size;\n",
              "      div.appendChild(progress);\n",
              "      document.body.appendChild(div);\n",
              "\n",
              "      const buffers = [];\n",
              "      let downloaded = 0;\n",
              "\n",
              "      const channel = await google.colab.kernel.comms.open(id);\n",
              "      // Send a message to notify the kernel that we're ready.\n",
              "      channel.send({})\n",
              "\n",
              "      for await (const message of channel.messages) {\n",
              "        // Send a message to notify the kernel that we're ready.\n",
              "        channel.send({})\n",
              "        if (message.buffers) {\n",
              "          for (const buffer of message.buffers) {\n",
              "            buffers.push(buffer);\n",
              "            downloaded += buffer.byteLength;\n",
              "            progress.value = downloaded;\n",
              "          }\n",
              "        }\n",
              "      }\n",
              "      const blob = new Blob(buffers, {type: 'application/binary'});\n",
              "      const a = document.createElement('a');\n",
              "      a.href = window.URL.createObjectURL(blob);\n",
              "      a.download = filename;\n",
              "      div.appendChild(a);\n",
              "      a.click();\n",
              "      div.remove();\n",
              "    }\n",
              "  "
            ],
            "text/plain": [
              "<IPython.core.display.Javascript object>"
            ]
          },
          "metadata": {
            "tags": []
          }
        },
        {
          "output_type": "display_data",
          "data": {
            "application/javascript": [
              "download(\"download_e88a24aa-79e7-4e8a-93ad-bfe8955778eb\", \"prediction_results.csv\", 12902)"
            ],
            "text/plain": [
              "<IPython.core.display.Javascript object>"
            ]
          },
          "metadata": {
            "tags": []
          }
        }
      ]
    },
    {
      "cell_type": "code",
      "metadata": {
        "id": "zuKI0Xo9HWlt",
        "colab_type": "code",
        "colab": {
          "base_uri": "https://localhost:8080/",
          "height": 35
        },
        "outputId": "07856262-9185-4fdd-ae47-6a9a5a9c1807"
      },
      "source": [
        "res.columns"
      ],
      "execution_count": 81,
      "outputs": [
        {
          "output_type": "execute_result",
          "data": {
            "text/plain": [
              "RangeIndex(start=0, stop=1, step=1)"
            ]
          },
          "metadata": {
            "tags": []
          },
          "execution_count": 81
        }
      ]
    },
    {
      "cell_type": "code",
      "metadata": {
        "id": "FNkZIOgU2Y-D",
        "colab_type": "code",
        "colab": {}
      },
      "source": [
        "def heatmap(data, row_labels, col_labels, ax=None, cbar_kw={}, cbarlabel=\"\", **kwargs):\n",
        "    \"\"\"\n",
        "    Create a heatmap from a numpy array and two lists of labels.\n",
        "    \"\"\"\n",
        "    if not ax:\n",
        "        ax = plt.gca()\n",
        "\n",
        "    # Plot the heatmap\n",
        "    im = ax.imshow(data, **kwargs)\n",
        "\n",
        "    # Create colorbar\n",
        "    cbar = ax.figure.colorbar(im, ax=ax, **cbar_kw)\n",
        "    cbar.ax.set_ylabel(cbarlabel, rotation=-90, va=\"bottom\")\n",
        "\n",
        "    # Let the horizontal axes labeling appear on top.\n",
        "    ax.tick_params(top=True, bottom=False,\n",
        "                   labeltop=True, labelbottom=False)\n",
        "    # We want to show all ticks...\n",
        "    ax.set_xticks(np.arange(data.shape[1]))\n",
        "    ax.set_yticks(np.arange(data.shape[0]))\n",
        "    # ... and label them with the respective list entries.\n",
        "    ax.set_xticklabels(col_labels)\n",
        "    ax.set_yticklabels(row_labels)\n",
        "    \n",
        "    ax.set_xlabel('Predicted Label') \n",
        "    ax.set_ylabel('True Label')\n",
        "    \n",
        "    return im, cbar\n",
        "\n",
        "def annotate_heatmap(im, data=None, fmt=\"d\", threshold=None):\n",
        "    \"\"\"\n",
        "    A function to annotate a heatmap.\n",
        "    \"\"\"\n",
        "    # Change the text's color depending on the data.\n",
        "    texts = []\n",
        "    for i in range(data.shape[0]):\n",
        "        for j in range(data.shape[1]):\n",
        "            text = im.axes.text(j, i, format(data[i, j], fmt), horizontalalignment=\"center\",\n",
        "                                 color=\"white\" if data[i, j] > thresh else \"black\")\n",
        "            texts.append(text)\n",
        "\n",
        "    return texts"
      ],
      "execution_count": 84,
      "outputs": []
    },
    {
      "cell_type": "code",
      "metadata": {
        "id": "apPC1pjA2hvM",
        "colab_type": "code",
        "colab": {
          "base_uri": "https://localhost:8080/",
          "height": 873
        },
        "outputId": "7430591a-ab66-4073-dabe-fbfc28d15c20"
      },
      "source": [
        "labels = ['Airplane', 'Automobile', 'Bird', 'Cat', 'Deer', 'Dog', 'Frog', 'Horse', 'Ship', 'Truck']\n",
        "\n",
        "# Convert predictions classes to one hot vectors \n",
        "Y_pred_classes = np.argmax(pred, axis=1) \n",
        "# Convert validation observations to one hot vectors\n",
        "Y_true = np.argmax(y_test, axis=1)\n",
        "# Errors are difference between predicted labels and true labels\n",
        "errors = (Y_pred_classes - Y_true != 0)\n",
        "\n",
        "Y_pred_classes_errors = Y_pred_classes[errors]\n",
        "Y_pred_errors = pred[errors]\n",
        "Y_true_errors = Y_true[errors]\n",
        "X_test_errors = x_test[errors]\n",
        "\n",
        "cm = confusion_matrix(Y_true, Y_pred_classes) \n",
        "thresh = cm.max() / 2.\n",
        "\n",
        "fig, ax = plt.subplots(figsize=(12,12))\n",
        "im, cbar = heatmap(cm, labels, labels, ax=ax,\n",
        "                   cmap=plt.cm.Blues, cbarlabel=\"count of predictions\")\n",
        "texts = annotate_heatmap(im, data=cm, threshold=thresh)\n",
        "\n",
        "fig.tight_layout()\n",
        "plt.show()"
      ],
      "execution_count": 86,
      "outputs": [
        {
          "output_type": "display_data",
          "data": {
            "image/png": "[encoded data removed]",
            "text/plain": [
              "<Figure size 864x864 with 2 Axes>"
            ]
          },
          "metadata": {
            "tags": [],
            "needs_background": "light"
          }
        }
      ]
    },
    {
      "cell_type": "code",
      "metadata": {
        "id": "h-iTySqz2n4O",
        "colab_type": "code",
        "colab": {}
      },
      "source": [
        "print(classification_report(Y_true, Y_pred_classes))"
      ],
      "execution_count": null,
      "outputs": []
    },
    {
      "cell_type": "code",
      "metadata": {
        "id": "5BUvNfkt2tle",
        "colab_type": "code",
        "colab": {}
      },
      "source": [
        "R = 5\n",
        "C = 5\n",
        "fig, axes = plt.subplots(R, C, figsize=(12,12))\n",
        "axes = axes.ravel()\n",
        "\n",
        "for i in np.arange(0, R*C):\n",
        "    axes[i].imshow(x_test[i])\n",
        "    axes[i].set_title(\"True: %s \\nPredict: %s\" % (labels[Y_true[i]], labels[Y_pred_classes[i]]))\n",
        "    axes[i].axis('off')\n",
        "    plt.subplots_adjust(wspace=1)\n"
      ],
      "execution_count": null,
      "outputs": []
    },
    {
      "cell_type": "code",
      "metadata": {
        "id": "PU2YuWlo20Uw",
        "colab_type": "code",
        "colab": {}
      },
      "source": [
        "R = 3\n",
        "C = 5\n",
        "fig, axes = plt.subplots(R, C, figsize=(12,8))\n",
        "axes = axes.ravel()\n",
        "\n",
        "misclassified_idx = np.where(Y_pred_classes != Y_true)[0]\n",
        "for i in np.arange(0, R*C):\n",
        "    axes[i].imshow(x_test[misclassified_idx[i]])\n",
        "    axes[i].set_title(\"True: %s \\nPredicted: %s\" % (labels[Y_true[misclassified_idx[i]]], \n",
        "                                                  labels[Y_pred_classes[misclassified_idx[i]]]))\n",
        "    axes[i].axis('off')\n",
        "    plt.subplots_adjust(wspace=1)"
      ],
      "execution_count": null,
      "outputs": []
    },
    {
      "cell_type": "code",
      "metadata": {
        "id": "OuRgfmby271n",
        "colab_type": "code",
        "colab": {}
      },
      "source": [
        "def display_errors(errors_index, img_errors, pred_errors, obs_errors):\n",
        "    \"\"\" This function shows 10 images with their predicted and real labels\"\"\"\n",
        "    n = 0\n",
        "    nrows = 2\n",
        "    ncols = 5\n",
        "    fig, ax = plt.subplots(nrows,ncols,sharex=True,sharey=True, figsize=(12,6))\n",
        "    for row in range(nrows):\n",
        "        for col in range(ncols):\n",
        "            error = errors_index[n]\n",
        "            ax[row,col].imshow((img_errors[error]).reshape((32,32,3)))\n",
        "            ax[row,col].set_title(\"Predicted:{}\\nTrue:{}\".\n",
        "                                  format(labels[pred_errors[error]],labels[obs_errors[error]]))\n",
        "            n += 1\n",
        "            ax[row,col].axis('off')\n",
        "            plt.subplots_adjust(wspace=1)\n",
        "\n",
        "# Probabilities of the wrong predicted numbers\n",
        "Y_pred_errors_prob = np.max(Y_pred_errors,axis = 1)\n",
        "\n",
        "# Predicted probabilities of the true values in the error set\n",
        "true_prob_errors = np.diagonal(np.take(Y_pred_errors, Y_true_errors, axis=1))\n",
        "\n",
        "# Difference between the probability of the predicted label and the true label\n",
        "delta_pred_true_errors = Y_pred_errors_prob - true_prob_errors\n",
        "\n",
        "# Sorted list of the delta prob errors\n",
        "sorted_dela_errors = np.argsort(delta_pred_true_errors)\n",
        "\n",
        "# Top 10 errors \n",
        "most_important_errors = sorted_dela_errors[-10:]\n",
        "\n",
        "# Show the top 10 errors\n",
        "display_errors(most_important_errors, X_test_errors, Y_pred_classes_errors, Y_true_errors)"
      ],
      "execution_count": null,
      "outputs": []
    },
    {
      "cell_type": "code",
      "metadata": {
        "id": "Uz3Cb6nE3DA3",
        "colab_type": "code",
        "colab": {}
      },
      "source": [
        "def show_test(number):\n",
        "    fig = plt.figure(figsize = (3,3))\n",
        "    test_image = np.expand_dims(x_test[number], axis=0)\n",
        "    test_result = model.predict_classes(test_image)\n",
        "    plt.imshow(x_test[number])\n",
        "    dict_key = test_result[0]\n",
        "    plt.title(\"Predicted: {} \\nTrue Label: {}\".format(labels[dict_key],\n",
        "                                                      labels[Y_true[number]]))"
      ],
      "execution_count": null,
      "outputs": []
    },
    {
      "cell_type": "code",
      "metadata": {
        "id": "ZTilgTfw3I3w",
        "colab_type": "code",
        "colab": {}
      },
      "source": [
        "show_test(20)"
      ],
      "execution_count": null,
      "outputs": []
    },
    {
      "cell_type": "code",
      "metadata": {
        "id": "q68INJ3Z3PbT",
        "colab_type": "code",
        "colab": {}
      },
      "source": [
        "save_dir = os.path.join(os.getcwd(), 'saved_models')\n",
        "model_name = 'keras_cifar10_trained_model.h5'\n",
        "\n",
        "# Save model and weights\n",
        "if not os.path.isdir(save_dir):\n",
        "    os.makedirs(save_dir)\n",
        "model_path = os.path.join(save_dir, model_name)\n",
        "model5.save(model_path)\n",
        "print('Saved trained model at %s ' % model_path)\n",
        "\n",
        "# Score trained model.\n",
        "scores = model5.evaluate(x_test, y_test, verbose=1)\n",
        "print('Test loss:', scores[0])\n",
        "print('Test accuracy:', scores[1])"
      ],
      "execution_count": null,
      "outputs": []
    }
  ]
}